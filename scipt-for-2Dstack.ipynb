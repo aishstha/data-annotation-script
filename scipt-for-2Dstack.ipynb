{
 "cells": [
  {
   "cell_type": "code",
   "execution_count": 1,
   "id": "b839689b-41de-48ff-b653-b4690b14b79c",
   "metadata": {},
   "outputs": [
    {
     "name": "stdout",
     "output_type": "stream",
     "text": [
      "Requirement already satisfied: tifffile in /Users/aishwaryashrestha/opt/anaconda3/lib/python3.9/site-packages (2021.7.2)\n",
      "Requirement already satisfied: numpy>=1.15.1 in /Users/aishwaryashrestha/opt/anaconda3/lib/python3.9/site-packages (from tifffile) (1.22.4)\n"
     ]
    }
   ],
   "source": [
    "!pip install tifffile\n"
   ]
  },
  {
   "cell_type": "code",
   "execution_count": null,
   "id": "68937fcb-506e-47e0-ba70-70ff49225349",
   "metadata": {},
   "outputs": [],
   "source": [
    "# script that uses the NumPy and Pillow libraries \n",
    "# It helps to unstack 3D images to 2D and save all the images separately in .tif format"
   ]
  },
  {
   "cell_type": "code",
   "execution_count": 2,
   "id": "21d721bb-8d12-4170-8bb6-750ee0dbb50c",
   "metadata": {},
   "outputs": [],
   "source": [
    "import tifffile\n",
    "import numpy as np\n",
    "from PIL import Image\n",
    "import matplotlib.pyplot as plt\n",
    "import os\n",
    "\n"
   ]
  },
  {
   "cell_type": "code",
   "execution_count": 3,
   "id": "f33e42a1-0561-49fb-8463-db7bf4b191e8",
   "metadata": {},
   "outputs": [
    {
     "name": "stdout",
     "output_type": "stream",
     "text": [
      "./3D-image/20140425_LOT20140421_Matrigel_#3_Day5_MCF10A.lsm\n"
     ]
    }
   ],
   "source": [
    "# Load the .lsm image as a NumPy array\n",
    "image_dr = \"./3D-image/\"\n",
    "file_name = \"20140425_LOT20140421_Matrigel_#3_Day5_MCF10A.lsm\"\n",
    "input_image = image_dr + file_name\n",
    "image_3d = tifffile.imread(input_image)\n",
    "print(input_image)"
   ]
  },
  {
   "cell_type": "code",
   "execution_count": 4,
   "id": "50546689-6444-4087-901e-3a40ebc98666",
   "metadata": {},
   "outputs": [
    {
     "name": "stdout",
     "output_type": "stream",
     "text": [
      "Shape of the NumPy array: (57, 848, 848)\n"
     ]
    }
   ],
   "source": [
    "# Check the shape and data type of the NumPy array (62, 848, 848) (68, 260, 289)\n",
    "\n",
    "print(\"Shape of the NumPy array:\", image_3d.shape)"
   ]
  },
  {
   "cell_type": "code",
   "execution_count": 7,
   "id": "d215c078-faf0-4219-ba45-834a5e249dbf",
   "metadata": {},
   "outputs": [
    {
     "ename": "FileNotFoundError",
     "evalue": "[Errno 2] No such file or directory: 'np_array_temporary/array1.npy'",
     "output_type": "error",
     "traceback": [
      "\u001b[0;31m---------------------------------------------------------------------------\u001b[0m",
      "\u001b[0;31mFileNotFoundError\u001b[0m                         Traceback (most recent call last)",
      "Input \u001b[0;32mIn [7]\u001b[0m, in \u001b[0;36m<cell line: 1>\u001b[0;34m()\u001b[0m\n\u001b[0;32m----> 1\u001b[0m \u001b[43mnp\u001b[49m\u001b[38;5;241;43m.\u001b[39;49m\u001b[43msave\u001b[49m\u001b[43m(\u001b[49m\u001b[38;5;124;43m\"\u001b[39;49m\u001b[38;5;124;43mnp_array_temporary/array1.npy\u001b[39;49m\u001b[38;5;124;43m\"\u001b[39;49m\u001b[43m,\u001b[49m\u001b[43m \u001b[49m\u001b[43mimage_3d\u001b[49m\u001b[43m)\u001b[49m\n",
      "File \u001b[0;32m<__array_function__ internals>:180\u001b[0m, in \u001b[0;36msave\u001b[0;34m(*args, **kwargs)\u001b[0m\n",
      "File \u001b[0;32m~/opt/anaconda3/lib/python3.9/site-packages/numpy/lib/npyio.py:515\u001b[0m, in \u001b[0;36msave\u001b[0;34m(file, arr, allow_pickle, fix_imports)\u001b[0m\n\u001b[1;32m    513\u001b[0m     \u001b[38;5;28;01mif\u001b[39;00m \u001b[38;5;129;01mnot\u001b[39;00m file\u001b[38;5;241m.\u001b[39mendswith(\u001b[38;5;124m'\u001b[39m\u001b[38;5;124m.npy\u001b[39m\u001b[38;5;124m'\u001b[39m):\n\u001b[1;32m    514\u001b[0m         file \u001b[38;5;241m=\u001b[39m file \u001b[38;5;241m+\u001b[39m \u001b[38;5;124m'\u001b[39m\u001b[38;5;124m.npy\u001b[39m\u001b[38;5;124m'\u001b[39m\n\u001b[0;32m--> 515\u001b[0m     file_ctx \u001b[38;5;241m=\u001b[39m \u001b[38;5;28;43mopen\u001b[39;49m\u001b[43m(\u001b[49m\u001b[43mfile\u001b[49m\u001b[43m,\u001b[49m\u001b[43m \u001b[49m\u001b[38;5;124;43m\"\u001b[39;49m\u001b[38;5;124;43mwb\u001b[39;49m\u001b[38;5;124;43m\"\u001b[39;49m\u001b[43m)\u001b[49m\n\u001b[1;32m    517\u001b[0m \u001b[38;5;28;01mwith\u001b[39;00m file_ctx \u001b[38;5;28;01mas\u001b[39;00m fid:\n\u001b[1;32m    518\u001b[0m     arr \u001b[38;5;241m=\u001b[39m np\u001b[38;5;241m.\u001b[39masanyarray(arr)\n",
      "\u001b[0;31mFileNotFoundError\u001b[0m: [Errno 2] No such file or directory: 'np_array_temporary/array1.npy'"
     ]
    }
   ],
   "source": [
    "np.save(\"np_array_temporary/array1.npy\", image_3d)"
   ]
  },
  {
   "cell_type": "code",
   "execution_count": 6,
   "id": "cc386b37-ee0e-4fd7-b66f-7ac8eb174fcd",
   "metadata": {},
   "outputs": [],
   "source": [
    "# load the 3D image as a NumPy array\n",
    "image_3d_np = np.load(\"./np_array_output_one/array1.npy\")"
   ]
  },
  {
   "cell_type": "code",
   "execution_count": 7,
   "id": "cedc19a6-b97a-49a9-8155-7259dd1b7374",
   "metadata": {},
   "outputs": [
    {
     "data": {
      "text/plain": [
       "(57, 848, 848)"
      ]
     },
     "execution_count": 7,
     "metadata": {},
     "output_type": "execute_result"
    }
   ],
   "source": [
    "image_3d_np.shape"
   ]
  },
  {
   "cell_type": "code",
   "execution_count": 8,
   "id": "1673e7b0-2a19-4a7f-99bd-7f2e38ea724d",
   "metadata": {},
   "outputs": [
    {
     "data": {
      "text/plain": [
       "'20140425_LOT20140421_Matrigel_#3_Day5_MCF10A.lsm'"
      ]
     },
     "execution_count": 8,
     "metadata": {},
     "output_type": "execute_result"
    }
   ],
   "source": [
    "file_name"
   ]
  },
  {
   "cell_type": "code",
   "execution_count": 11,
   "id": "c616b90e-f2a6-4b24-96c3-1d02fba3f90b",
   "metadata": {},
   "outputs": [
    {
     "name": "stdout",
     "output_type": "stream",
     "text": [
      "./sliced-images-according-to-file-name/20140425_LOT20140421_Matrigel_#3_Day5_MCF10A\n"
     ]
    }
   ],
   "source": [
    "# Create a new folder in the current working directory\n",
    "file_name_without_ext = '.'.join(file_name.split('.')[:-1])\n",
    "\n",
    "folder_path = \"./sliced-images-according-to-file-name/\" + file_name_without_ext\n",
    "mask_folder_path = \"./sliced-images-according-to-file-name/\" + file_name_without_ext + \"-MASK\"\n",
    "if not os.path.exists(folder_path):\n",
    "    os.makedirs(folder_path)\n",
    "if not os.path.exists(mask_folder_path):\n",
    "    os.makedirs(mask_folder_path)\n",
    "print(folder_path)"
   ]
  },
  {
   "cell_type": "code",
   "execution_count": 20,
   "id": "7941d3dd-71ac-4c41-8ede-5524470996d6",
   "metadata": {},
   "outputs": [
    {
     "name": "stdout",
     "output_type": "stream",
     "text": [
      "higher intensity 2 2591\n",
      "higher intensity 3 3300\n",
      "higher intensity 4 2777\n",
      "higher intensity 5 2524\n",
      "higher intensity 6 2816\n",
      "higher intensity 7 3153\n",
      "higher intensity 8 3540\n",
      "higher intensity 9 3124\n",
      "higher intensity 10 3445\n",
      "higher intensity 11 4095\n",
      "higher intensity 12 4095\n",
      "higher intensity 13 3811\n",
      "higher intensity 14 3110\n",
      "higher intensity 15 3169\n",
      "higher intensity 16 3835\n",
      "higher intensity 17 3457\n",
      "higher intensity 18 3729\n",
      "higher intensity 19 3916\n",
      "higher intensity 20 3718\n",
      "higher intensity 21 4095\n",
      "higher intensity 22 4095\n",
      "higher intensity 23 3802\n",
      "higher intensity 24 3376\n",
      "higher intensity 25 3490\n",
      "higher intensity 26 2636\n",
      "higher intensity 27 2514\n",
      "higher intensity 28 2481\n",
      "higher intensity 29 2458\n",
      "higher intensity 30 2466\n",
      "higher intensity 31 2517\n",
      "higher intensity 32 2906\n",
      "higher intensity 33 2846\n",
      "higher intensity 34 3153\n",
      "higher intensity 35 3310\n",
      "higher intensity 36 3225\n",
      "higher intensity 37 3135\n",
      "higher intensity 38 2773\n",
      "higher intensity 39 2666\n",
      "higher intensity 40 2469\n",
      "higher intensity 41 2222\n",
      "higher intensity 42 2376\n",
      "higher intensity 43 2682\n",
      "higher intensity 44 2868\n",
      "higher intensity 45 2422\n",
      "higher intensity 46 2631\n",
      "higher intensity 47 2301\n",
      "higher intensity 48 2476\n",
      "higher intensity 49 2412\n",
      "higher intensity 50 2884\n",
      "higher intensity 51 2597\n",
      "higher intensity 52 2216\n",
      "higher intensity 53 2147\n",
      "higher intensity 54 2180\n",
      "higher intensity 55 2127\n",
      "cnt 54\n",
      "./sliced-images-according-to-file-name/20140425_LOT20140421_Matrigel_#3_Day5_MCF10A/slice55.tif\n"
     ]
    }
   ],
   "source": [
    "cnt = 0\n",
    "# loop over each slice in the 3D image and save it as a separate 2D image\n",
    "for i in range(image_3d.shape[0]):\n",
    "    # extract the i-th slice from the 3D image\n",
    "    image_2d = image_3d[i, :, :]\n",
    "    threshold = 2000\n",
    "    \n",
    "    if np.max(image_2d) > threshold :\n",
    "        print(\"higher intensity\", i, np.max(image_2d))\n",
    "        cnt = cnt + 1\n",
    "        # convert the 2D NumPy array to a Pillow image\n",
    "        image_pil = Image.fromarray(image_2d)\n",
    "                    \n",
    "        # save the image as a .tif file with a unique name\n",
    "        filename = \"./sliced-images-according-to-file-name/\" + file_name_without_ext + \"/slice{}.tif\".format(i)\n",
    "        image_pil.save(filename)\n",
    "print(\"cnt\", cnt)\n",
    "print(filename)\n"
   ]
  },
  {
   "cell_type": "code",
   "execution_count": 23,
   "id": "bd3f1d25-0c4d-4d4f-959a-6e2031deec3e",
   "metadata": {},
   "outputs": [],
   "source": [
    "# Read the image\n",
    "file_name = \"./sliced-images-according-to-file-name/20140425_LOT20140421_Matrigel_#3_Day5_MCF10A/\" + \"slice23.tif\"\n",
    "img = tifffile.imread(file_name)"
   ]
  },
  {
   "cell_type": "code",
   "execution_count": 24,
   "id": "1e6f6a8c-d455-4fad-a0dc-3fd1f4e7086e",
   "metadata": {},
   "outputs": [
    {
     "data": {
      "image/png": "[encoded data removed]",
      "text/plain": [
       "<Figure size 432x288 with 1 Axes>"
      ]
     },
     "metadata": {
      "needs_background": "light"
     },
     "output_type": "display_data"
    }
   ],
   "source": [
    "\n",
    "# Display the MIP image\n",
    "plt.imshow(img\n",
    "           , cmap='gray')\n",
    "plt.show()"
   ]
  },
  {
   "cell_type": "code",
   "execution_count": 26,
   "id": "4c12c322-510d-4a87-b1fd-e83b6561d17f",
   "metadata": {},
   "outputs": [
    {
     "name": "stdout",
     "output_type": "stream",
     "text": [
      "./sliced-images-according-to-file-name/20140425_LOT20140421_Matrigel_#3_Day5_MCF10A\n"
     ]
    }
   ],
   "source": [
    "start_num = 1\n",
    "dir_path = \"./sliced-images-according-to-file-name/\" + file_name_without_ext   # Replace with the actual directory path\n",
    "print(dir_path)\n",
    "\n",
    "extension = \".tif\"\n",
    "\n",
    "file_list = os.listdir(dir_path)\n",
    "tif_list = [filename for filename in file_list if filename.endswith(extension)]\n",
    "\n",
    "for i, filename in enumerate(tif_list):\n",
    "    old_name = os.path.join(dir_path, filename)\n",
    "    new_name = os.path.join(dir_path, f\"img{start_num+i}{extension}\")\n",
    "    os.rename(old_name, new_name)\n"
   ]
  },
  {
   "cell_type": "code",
   "execution_count": 71,
   "id": "0787659c-0242-4993-b87c-10b624877186",
   "metadata": {},
   "outputs": [],
   "source": []
  },
  {
   "cell_type": "code",
   "execution_count": 68,
   "id": "5e262f9f-33c2-4cf7-8148-0c63362e46ff",
   "metadata": {},
   "outputs": [],
   "source": []
  },
  {
   "cell_type": "code",
   "execution_count": null,
   "id": "6b191d8b-5f7b-4a06-af17-aac3538ca99d",
   "metadata": {},
   "outputs": [],
   "source": []
  }
 ],
 "metadata": {
  "kernelspec": {
   "display_name": "Python 3 (ipykernel)",
   "language": "python",
   "name": "python3"
  },
  "language_info": {
   "codemirror_mode": {
    "name": "ipython",
    "version": 3
   },
   "file_extension": ".py",
   "mimetype": "text/x-python",
   "name": "python",
   "nbconvert_exporter": "python",
   "pygments_lexer": "ipython3",
   "version": "3.9.12"
  }
 },
 "nbformat": 4,
 "nbformat_minor": 5
}
